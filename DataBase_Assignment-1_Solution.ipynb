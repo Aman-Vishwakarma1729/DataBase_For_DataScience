{
 "cells": [
  {
   "cell_type": "markdown",
   "id": "34623802-b9ef-4973-857b-c17cb2cf1310",
   "metadata": {},
   "source": [
    "#### Answer_1"
   ]
  },
  {
   "cell_type": "markdown",
   "id": "f9919906-acd3-4cc3-b708-f9a449d19218",
   "metadata": {},
   "source": [
    "##### > A database is a systematically organized storage of information, allowing         easy insertion, updating, analysis, and retrieval of data\n",
    "##### > There are different programs avaliable through which we can create and             acess databases.\n",
    "##### > Difference between SQL and NoSQL.\n",
    "\n",
    "|                 SQL                     |                NoSQL                 |\n",
    "|-----------------------------------------|--------------------------------------|\n",
    "|1) SQL(Structured Query Language)        |1) NoSQL(Not only Structured Query      Lanugage)\n",
    "|2) SQL database are primarily called Relational Databases(RDBMS) | 2) NoSQL are called as Non_Relational or distributed databases|\n",
    "|3) These databases have fixed or static or predefined schema | 3) They have dynamic schema |\n",
    "|4) These databases are not suited for hierarchical data storage | 4) These databases are best suited for hierarchical data storage |\n",
    "|5) These databases are best suited for complex queries | 5) These databases are not so good for complex queries |\n",
    "|6) Vertically Scalable | 6) Horizontaly scalable |\n",
    "|7) Follows ACID property | 7) Follows CAP(consistency, availability, partition tolerance) |\n",
    "|8)  MySQL, PostgreSQL, Oracle, MS-SQL Server, etc | 8) Examples: MongoDB, GraphQL, HBase, Neo4j, Cassandra, etc | "
   ]
  },
  {
   "cell_type": "markdown",
   "id": "10c4cc2b-b8f7-4b63-8a2f-ebf4d046d430",
   "metadata": {},
   "source": [
    "#### Answer_2"
   ]
  },
  {
   "cell_type": "markdown",
   "id": "f9c0a77b-9805-460d-8a27-a4c7dd7177fb",
   "metadata": {},
   "source": [
    "##### > DDL is short name of Data Definition Language, which deals with database           schemas and descriptions, of how the data should reside in the database.\n",
    "##### > CREATE - to create a database and its objects like (table, index, views,                    store procedure, function, and triggers)\n",
    "###### >         eg. CREATE TABLE table_1;\n",
    "##### > DROP - delete objects from the database\n",
    "###### >       eg. DROP DATABASE database_name;\n",
    "##### > ALTER - alters the structure of the existing database\n",
    "###### >        eg. ALTER TABLE table_name\n",
    "######                ADD column_name datatype;\n",
    "##### > TRUNCATE - remove all records from a table, including all spaces allocated         for the records are removed"
   ]
  },
  {
   "cell_type": "markdown",
   "id": "9c21754f-f5df-47cf-a53f-7b8fd6c42e84",
   "metadata": {},
   "source": [
    "#### Answer_3"
   ]
  },
  {
   "cell_type": "markdown",
   "id": "19735542-4ad1-4adc-877f-483c51c054ca",
   "metadata": {},
   "source": [
    "##### > DML is short name of Data Manipulation Language which deals with data             manipulation and includes most common SQL statements such SELECT, INSERT,         UPDATE, DELETE, etc., and it is used to store, modify, retrieve, delete           and update data in a database.\n",
    "##### > INSERT - insert data into a table\n",
    "#####   Example: CREATE TABLE table_2;\n",
    "#####            INSERT INTO table_2 (Name,Age,Phone_Num)\n",
    "#####            VALUES (\"Aman Vishwakarma\",22,1234567890);\n",
    "##### > UPDATE - updates existing data within a table\n",
    "#####   Example: UPDATE table_2\n",
    "#####            SET Name = \"Ajay Sharma\"\n",
    "#####            WHERE Age = 22;\n",
    "##### > DELETE - Delete all records from a database table\n",
    "#####   Example: DELET FROM table_2 WHERE Age = 22;"
   ]
  },
  {
   "cell_type": "markdown",
   "id": "f2404b87-f2b9-447e-a280-9f074270fb60",
   "metadata": {},
   "source": [
    "#### Answer_4"
   ]
  },
  {
   "cell_type": "markdown",
   "id": "1062538c-d1c2-438b-bd52-ba13b167c8c8",
   "metadata": {},
   "source": [
    "##### > DQL (Data Query Language): DQL statements are used for performing queries         on the data within schema objects. The purpose of the DQL Command is to           get some schema relation based on the query passed to it.\n",
    "##### > SELECT: It is used to retrieve data from the database.\n",
    "##### > Example : SELECT * FROM table_2;"
   ]
  },
  {
   "cell_type": "markdown",
   "id": "14a69490-7a71-4076-9e76-b89fb5642c88",
   "metadata": {},
   "source": [
    "#### Answer_5"
   ]
  },
  {
   "cell_type": "markdown",
   "id": "f46faab7-8a57-47d1-807c-f7fbc8a28755",
   "metadata": {},
   "source": [
    "##### Primary Key:\n",
    "###### > The PRIMARY KEY constraint uniquely identifies each record in a table.\n",
    "###### > Primary keys must contain UNIQUE values, and cannot contain NULL values.\n",
    "###### > A table can have only ONE primary key; and in the table, this primary key          can consist of single or multiple columns (fields).\n",
    "##### Foreign Key:\n",
    "###### > The FOREIGN KEY constraint is used to prevent actions that would destroy          links between tables.\n",
    "###### > A FOREIGN KEY is a field (or collection of fields) in one table, that              refers to the PRIMARY KEY in another table.\n",
    "###### > The table with the foreign key is called the child table, and the table            with the primary key is called the referenced or parent table."
   ]
  },
  {
   "cell_type": "markdown",
   "id": "e4485b0d-985e-41ab-8a37-2149ddc302e4",
   "metadata": {},
   "source": [
    "#### Answer_6"
   ]
  },
  {
   "cell_type": "code",
   "execution_count": null,
   "id": "4b6b1235-47fd-4513-aa55-25f1984efcdb",
   "metadata": {},
   "outputs": [],
   "source": [
    "import mysql.connector\n",
    "mydb = mysql.connector.connect(\n",
    "  host=\"localhost\",\n",
    "  user=\"abc\",\n",
    "  password=\"password\"\n",
    ")\n",
    "print(mydb)\n",
    "mycursor = mydb.cursor()\n",
    "mycursor.execute(\"SHOW DATABASES\")\n",
    "for x in mycursor:\n",
    "    print(x)"
   ]
  },
  {
   "cell_type": "markdown",
   "id": "28699102-bf5e-4dfb-897f-f18f3c0ea5d1",
   "metadata": {},
   "source": [
    "##### cursor(): It is an object that is used to make the connection for executing SQL queries. It acts as middleware between SQLite database connection and SQL query. It is created after giving connection to SQLite database.\n",
    "##### execute(): This method executes the given database operation (query or command)"
   ]
  },
  {
   "cell_type": "markdown",
   "id": "5a6bafb9-a367-4f3e-b152-ff21e4abdc1e",
   "metadata": {},
   "source": [
    "#### Answer_7"
   ]
  },
  {
   "cell_type": "markdown",
   "id": "491a3d8a-d2df-460b-9b3f-0ef133d20f5e",
   "metadata": {},
   "source": [
    "| Order | Clause | Function |\n",
    "|-------|--------|----------|\n",
    "| 1 | FROM | Tables are joined to get the base data. |\n",
    "| 2 | WHERE | The base data is filtered. |\n",
    "| 3\t| GROUP BY | The filtered base data is grouped. |\n",
    "| 4\t| HAVING | The grouped base data is filtered. |\n",
    "| 5\t| SELECT | The final data is returned. |\n",
    "| 6\t| ORDER BY | The final data is sorted. |\n",
    "| 7\t| LIMIT\t| The returned data is limited to row count.|\n"
   ]
  },
  {
   "cell_type": "code",
   "execution_count": null,
   "id": "28ae6b74-cc5f-4d62-937c-3a608e977264",
   "metadata": {},
   "outputs": [],
   "source": []
  },
  {
   "cell_type": "code",
   "execution_count": null,
   "id": "9b7e82ee-7693-4dc5-8028-b89b6ea02490",
   "metadata": {},
   "outputs": [],
   "source": []
  },
  {
   "cell_type": "code",
   "execution_count": null,
   "id": "afa5e15f-d382-43e3-be1b-c2e73181b063",
   "metadata": {},
   "outputs": [],
   "source": []
  },
  {
   "cell_type": "code",
   "execution_count": null,
   "id": "7beedf0f-cf85-4ef5-a202-0fa33503142d",
   "metadata": {},
   "outputs": [],
   "source": []
  },
  {
   "cell_type": "code",
   "execution_count": null,
   "id": "d75091c8-2927-4586-9353-e50b35c7d43b",
   "metadata": {},
   "outputs": [],
   "source": []
  },
  {
   "cell_type": "code",
   "execution_count": null,
   "id": "4df5592e-5cc3-43a7-9c24-e07535d3514f",
   "metadata": {},
   "outputs": [],
   "source": []
  },
  {
   "cell_type": "code",
   "execution_count": null,
   "id": "16b0eeeb-f4ca-459f-a65a-80c3c85e7263",
   "metadata": {},
   "outputs": [],
   "source": []
  },
  {
   "cell_type": "code",
   "execution_count": null,
   "id": "5ee8453f-08ec-4d31-940f-9a113c2f153e",
   "metadata": {},
   "outputs": [],
   "source": []
  },
  {
   "cell_type": "code",
   "execution_count": null,
   "id": "aa9da904-8cad-48a5-b4b4-76cca6097262",
   "metadata": {},
   "outputs": [],
   "source": []
  },
  {
   "cell_type": "code",
   "execution_count": null,
   "id": "204e7490-82a9-444f-9ecd-49494acc8d4f",
   "metadata": {},
   "outputs": [],
   "source": []
  },
  {
   "cell_type": "code",
   "execution_count": null,
   "id": "e89a97ab-39ba-439f-b8a9-a4727c2c584b",
   "metadata": {},
   "outputs": [],
   "source": []
  },
  {
   "cell_type": "code",
   "execution_count": null,
   "id": "d25f976a-bc03-40ea-8843-7a32e32e88e3",
   "metadata": {},
   "outputs": [],
   "source": []
  },
  {
   "cell_type": "code",
   "execution_count": null,
   "id": "e22f2aac-c22b-42eb-9689-b9f7575a2137",
   "metadata": {},
   "outputs": [],
   "source": []
  },
  {
   "cell_type": "code",
   "execution_count": null,
   "id": "ab5b784b-97bb-4bcd-a915-ceb86f76fd78",
   "metadata": {},
   "outputs": [],
   "source": []
  },
  {
   "cell_type": "code",
   "execution_count": null,
   "id": "84897bf3-4a28-4510-af4a-8d8ee218b70c",
   "metadata": {},
   "outputs": [],
   "source": []
  },
  {
   "cell_type": "code",
   "execution_count": null,
   "id": "59c975f4-4785-43af-a9b4-9044c1e0e44b",
   "metadata": {},
   "outputs": [],
   "source": []
  },
  {
   "cell_type": "code",
   "execution_count": null,
   "id": "d78ef761-031b-43fb-b76c-09aebe6c7855",
   "metadata": {},
   "outputs": [],
   "source": []
  },
  {
   "cell_type": "code",
   "execution_count": null,
   "id": "e17f7475-a515-4338-a4a7-17e1891db06f",
   "metadata": {},
   "outputs": [],
   "source": []
  },
  {
   "cell_type": "code",
   "execution_count": null,
   "id": "2ac208cb-2743-473a-91e4-881700217d4a",
   "metadata": {},
   "outputs": [],
   "source": []
  },
  {
   "cell_type": "code",
   "execution_count": null,
   "id": "045c91a1-4f9a-477e-9d3f-c34614e9f0e9",
   "metadata": {},
   "outputs": [],
   "source": []
  },
  {
   "cell_type": "code",
   "execution_count": null,
   "id": "79059fb6-9df6-4e28-8cab-9a0a392cd59d",
   "metadata": {},
   "outputs": [],
   "source": []
  },
  {
   "cell_type": "code",
   "execution_count": null,
   "id": "b891150d-3670-4575-87a1-6977b616485e",
   "metadata": {},
   "outputs": [],
   "source": []
  },
  {
   "cell_type": "code",
   "execution_count": null,
   "id": "17cd790d-7387-48b5-b5bd-a5a22a89ee86",
   "metadata": {},
   "outputs": [],
   "source": []
  },
  {
   "cell_type": "code",
   "execution_count": null,
   "id": "9de7d9d7-9527-4bdf-a9f6-1a3f79a1223b",
   "metadata": {},
   "outputs": [],
   "source": []
  },
  {
   "cell_type": "code",
   "execution_count": null,
   "id": "c1e80f34-98b6-42b9-a6ff-e5331e92d1b4",
   "metadata": {},
   "outputs": [],
   "source": []
  },
  {
   "cell_type": "code",
   "execution_count": null,
   "id": "a30c92ad-a530-4cf6-8aef-c290a887e6f4",
   "metadata": {},
   "outputs": [],
   "source": []
  },
  {
   "cell_type": "code",
   "execution_count": null,
   "id": "dda3fedf-c1a4-4969-b589-c73238e8be83",
   "metadata": {},
   "outputs": [],
   "source": []
  },
  {
   "cell_type": "code",
   "execution_count": null,
   "id": "e2c6a521-a98b-43ff-9e2a-e361b7b5dbe5",
   "metadata": {},
   "outputs": [],
   "source": []
  },
  {
   "cell_type": "code",
   "execution_count": null,
   "id": "f76d5d08-b295-409c-af27-95dfe08cab33",
   "metadata": {},
   "outputs": [],
   "source": []
  },
  {
   "cell_type": "code",
   "execution_count": null,
   "id": "46251b57-f9fe-44b9-9dc4-1866708ed60c",
   "metadata": {},
   "outputs": [],
   "source": []
  },
  {
   "cell_type": "code",
   "execution_count": null,
   "id": "9632dd4c-a9db-47db-bd3b-866158176817",
   "metadata": {},
   "outputs": [],
   "source": []
  },
  {
   "cell_type": "code",
   "execution_count": null,
   "id": "77042fd9-af5d-49e7-9dff-7136009c23b0",
   "metadata": {},
   "outputs": [],
   "source": []
  },
  {
   "cell_type": "code",
   "execution_count": null,
   "id": "cfffc76d-0cd5-428a-a49f-fc09ba898a4f",
   "metadata": {},
   "outputs": [],
   "source": []
  },
  {
   "cell_type": "code",
   "execution_count": null,
   "id": "924a236d-1f5d-40d8-a050-488de3a0f999",
   "metadata": {},
   "outputs": [],
   "source": []
  }
 ],
 "metadata": {
  "kernelspec": {
   "display_name": "Python 3 (ipykernel)",
   "language": "python",
   "name": "python3"
  },
  "language_info": {
   "codemirror_mode": {
    "name": "ipython",
    "version": 3
   },
   "file_extension": ".py",
   "mimetype": "text/x-python",
   "name": "python",
   "nbconvert_exporter": "python",
   "pygments_lexer": "ipython3",
   "version": "3.10.8"
  }
 },
 "nbformat": 4,
 "nbformat_minor": 5
}
